{
  "nbformat": 4,
  "nbformat_minor": 0,
  "metadata": {
    "colab": {
      "provenance": [],
      "authorship_tag": "ABX9TyPAFTb/GQ1iXiW2GHy1qZa3",
      "include_colab_link": true
    },
    "kernelspec": {
      "name": "python3",
      "display_name": "Python 3"
    },
    "language_info": {
      "name": "python"
    }
  },
  "cells": [
    {
      "cell_type": "markdown",
      "metadata": {
        "id": "view-in-github",
        "colab_type": "text"
      },
      "source": [
        "<a href=\"https://colab.research.google.com/github/jasgunchandnani/SentimentAnalysis-BACustomerReviews/blob/main/BookingPredictions.ipynb\" target=\"_parent\"><img src=\"https://colab.research.google.com/assets/colab-badge.svg\" alt=\"Open In Colab\"/></a>"
      ]
    },
    {
      "cell_type": "markdown",
      "source": [
        "#EXPLORING AND PREPARING THE DATASET\n"
      ],
      "metadata": {
        "id": "mbDoHh-bWUMr"
      }
    },
    {
      "cell_type": "code",
      "execution_count": null,
      "metadata": {
        "colab": {
          "base_uri": "https://localhost:8080/"
        },
        "collapsed": true,
        "id": "1L820l_vWBWr",
        "outputId": "d5d3cc5a-1772-43d9-c19f-46ad3e08162a"
      },
      "outputs": [
        {
          "output_type": "stream",
          "name": "stdout",
          "text": [
            "Data Overview:\n",
            "   num_passengers sales_channel  trip_type  purchase_lead  length_of_stay  \\\n",
            "0               2      Internet  RoundTrip            262              19   \n",
            "1               1      Internet  RoundTrip            112              20   \n",
            "2               2      Internet  RoundTrip            243              22   \n",
            "3               1      Internet  RoundTrip             96              31   \n",
            "4               2      Internet  RoundTrip             68              22   \n",
            "\n",
            "   flight_hour flight_day   route booking_origin  wants_extra_baggage  \\\n",
            "0            7        Sat  AKLDEL    New Zealand                    1   \n",
            "1            3        Sat  AKLDEL    New Zealand                    0   \n",
            "2           17        Wed  AKLDEL          India                    1   \n",
            "3            4        Sat  AKLDEL    New Zealand                    0   \n",
            "4           15        Wed  AKLDEL          India                    1   \n",
            "\n",
            "   wants_preferred_seat  wants_in_flight_meals  flight_duration  \\\n",
            "0                     0                      0             5.52   \n",
            "1                     0                      0             5.52   \n",
            "2                     1                      0             5.52   \n",
            "3                     0                      1             5.52   \n",
            "4                     0                      1             5.52   \n",
            "\n",
            "   booking_complete  \n",
            "0                 0  \n",
            "1                 0  \n",
            "2                 0  \n",
            "3                 0  \n",
            "4                 0  \n",
            "\n",
            "Data Info:\n",
            "<class 'pandas.core.frame.DataFrame'>\n",
            "RangeIndex: 50000 entries, 0 to 49999\n",
            "Data columns (total 14 columns):\n",
            " #   Column                 Non-Null Count  Dtype  \n",
            "---  ------                 --------------  -----  \n",
            " 0   num_passengers         50000 non-null  int64  \n",
            " 1   sales_channel          50000 non-null  object \n",
            " 2   trip_type              50000 non-null  object \n",
            " 3   purchase_lead          50000 non-null  int64  \n",
            " 4   length_of_stay         50000 non-null  int64  \n",
            " 5   flight_hour            50000 non-null  int64  \n",
            " 6   flight_day             50000 non-null  object \n",
            " 7   route                  50000 non-null  object \n",
            " 8   booking_origin         50000 non-null  object \n",
            " 9   wants_extra_baggage    50000 non-null  int64  \n",
            " 10  wants_preferred_seat   50000 non-null  int64  \n",
            " 11  wants_in_flight_meals  50000 non-null  int64  \n",
            " 12  flight_duration        50000 non-null  float64\n",
            " 13  booking_complete       50000 non-null  int64  \n",
            "dtypes: float64(1), int64(8), object(5)\n",
            "memory usage: 5.3+ MB\n",
            "None\n",
            "\n",
            "Statistical Summary:\n",
            "       num_passengers  purchase_lead  length_of_stay  flight_hour  \\\n",
            "count    50000.000000   50000.000000     50000.00000  50000.00000   \n",
            "mean         1.591240      84.940480        23.04456      9.06634   \n",
            "std          1.020165      90.451378        33.88767      5.41266   \n",
            "min          1.000000       0.000000         0.00000      0.00000   \n",
            "25%          1.000000      21.000000         5.00000      5.00000   \n",
            "50%          1.000000      51.000000        17.00000      9.00000   \n",
            "75%          2.000000     115.000000        28.00000     13.00000   \n",
            "max          9.000000     867.000000       778.00000     23.00000   \n",
            "\n",
            "       wants_extra_baggage  wants_preferred_seat  wants_in_flight_meals  \\\n",
            "count         50000.000000          50000.000000           50000.000000   \n",
            "mean              0.668780              0.296960               0.427140   \n",
            "std               0.470657              0.456923               0.494668   \n",
            "min               0.000000              0.000000               0.000000   \n",
            "25%               0.000000              0.000000               0.000000   \n",
            "50%               1.000000              0.000000               0.000000   \n",
            "75%               1.000000              1.000000               1.000000   \n",
            "max               1.000000              1.000000               1.000000   \n",
            "\n",
            "       flight_duration  booking_complete  \n",
            "count     50000.000000      50000.000000  \n",
            "mean          7.277561          0.149560  \n",
            "std           1.496863          0.356643  \n",
            "min           4.670000          0.000000  \n",
            "25%           5.620000          0.000000  \n",
            "50%           7.570000          0.000000  \n",
            "75%           8.830000          0.000000  \n",
            "max           9.500000          1.000000  \n",
            "\n",
            "Missing Values:\n",
            "num_passengers           0\n",
            "sales_channel            0\n",
            "trip_type                0\n",
            "purchase_lead            0\n",
            "length_of_stay           0\n",
            "flight_hour              0\n",
            "flight_day               0\n",
            "route                    0\n",
            "booking_origin           0\n",
            "wants_extra_baggage      0\n",
            "wants_preferred_seat     0\n",
            "wants_in_flight_meals    0\n",
            "flight_duration          0\n",
            "booking_complete         0\n",
            "dtype: int64\n"
          ]
        }
      ],
      "source": [
        "import pandas as pd\n",
        "import numpy as np\n",
        "\n",
        "# Load the Dataset\n",
        "df = pd.read_csv('/content/customer_booking.csv', encoding='ISO-8859-1')\n",
        "\n",
        "# Understand the Data\n",
        "print(\"Data Overview:\")\n",
        "print(df.head())        # Display the first few rows of the dataset\n",
        "print(\"\\nData Info:\")\n",
        "print(df.info())        # Information about data types and missing values\n",
        "print(\"\\nStatistical Summary:\")\n",
        "print(df.describe())    # Basic statistics for numerical columns\n",
        "\n",
        "# Data Cleaning\n",
        "# Handle missing values\n",
        "print(\"\\nMissing Values:\")\n",
        "print(df.isnull().sum())    # Count missing values per column\n",
        "\n",
        "# Assuming we drop rows with missing values for simplicity\n",
        "df = df.dropna()\n"
      ]
    },
    {
      "cell_type": "code",
      "source": [
        "categorical_cols = ['sales_channel', 'trip_type', 'flight_day', 'route', 'booking_origin']\n",
        "df = pd.get_dummies(df, columns=categorical_cols, drop_first=True)\n",
        "print(\"\\nModified DataFrame with One-Hot Encoding:\")\n",
        "print(df.head())"
      ],
      "metadata": {
        "colab": {
          "base_uri": "https://localhost:8080/"
        },
        "collapsed": true,
        "id": "N4wAuT_FX6RP",
        "outputId": "8bb3a25d-0d39-4ab1-e618-a80b0d2016b0"
      },
      "execution_count": null,
      "outputs": [
        {
          "output_type": "stream",
          "name": "stdout",
          "text": [
            "\n",
            "Modified DataFrame with One-Hot Encoding:\n",
            "   num_passengers  purchase_lead  length_of_stay  flight_hour  \\\n",
            "0               2            262              19            7   \n",
            "1               1            112              20            3   \n",
            "2               2            243              22           17   \n",
            "3               1             96              31            4   \n",
            "4               2             68              22           15   \n",
            "\n",
            "   wants_extra_baggage  wants_preferred_seat  wants_in_flight_meals  \\\n",
            "0                    1                     0                      0   \n",
            "1                    0                     0                      0   \n",
            "2                    1                     1                      0   \n",
            "3                    0                     0                      1   \n",
            "4                    1                     0                      1   \n",
            "\n",
            "   flight_duration  booking_complete  sales_channel_Mobile  ...  \\\n",
            "0             5.52                 0                 False  ...   \n",
            "1             5.52                 0                 False  ...   \n",
            "2             5.52                 0                 False  ...   \n",
            "3             5.52                 0                 False  ...   \n",
            "4             5.52                 0                 False  ...   \n",
            "\n",
            "   booking_origin_Timor-Leste  booking_origin_Tonga  booking_origin_Tunisia  \\\n",
            "0                       False                 False                   False   \n",
            "1                       False                 False                   False   \n",
            "2                       False                 False                   False   \n",
            "3                       False                 False                   False   \n",
            "4                       False                 False                   False   \n",
            "\n",
            "   booking_origin_Turkey  booking_origin_Ukraine  \\\n",
            "0                  False                   False   \n",
            "1                  False                   False   \n",
            "2                  False                   False   \n",
            "3                  False                   False   \n",
            "4                  False                   False   \n",
            "\n",
            "   booking_origin_United Arab Emirates  booking_origin_United Kingdom  \\\n",
            "0                                False                          False   \n",
            "1                                False                          False   \n",
            "2                                False                          False   \n",
            "3                                False                          False   \n",
            "4                                False                          False   \n",
            "\n",
            "   booking_origin_United States  booking_origin_Vanuatu  \\\n",
            "0                         False                   False   \n",
            "1                         False                   False   \n",
            "2                         False                   False   \n",
            "3                         False                   False   \n",
            "4                         False                   False   \n",
            "\n",
            "   booking_origin_Vietnam  \n",
            "0                   False  \n",
            "1                   False  \n",
            "2                   False  \n",
            "3                   False  \n",
            "4                   False  \n",
            "\n",
            "[5 rows x 919 columns]\n"
          ]
        }
      ]
    },
    {
      "cell_type": "markdown",
      "source": [
        "##FEATURE SELECTION"
      ],
      "metadata": {
        "id": "dqkYtD7EYSJo"
      }
    },
    {
      "cell_type": "code",
      "source": [
        "# Limit to the top 10 features for clarity\n",
        "top_n = 15\n",
        "top_indices = indices[:top_n]\n",
        "\n",
        "# Print the top 10 feature ranking\n",
        "print(\"Top 10 Feature Ranking:\")\n",
        "\n",
        "for i in range(top_n):\n",
        "    print(f\"{i + 1}. Feature {X.columns[top_indices[i]]} ({importances[top_indices[i]]})\")\n",
        "\n",
        "# Plot the top 15 feature importances\n",
        "plt.figure(figsize=(10, 6))\n",
        "plt.title(\"Top 15 Feature Importances\")\n",
        "plt.bar(range(top_n), importances[top_indices], align=\"center\", color='skyblue')\n",
        "plt.xticks(range(top_n), X.columns[top_indices], rotation=45, ha=\"right\")\n",
        "plt.xlabel('Features')\n",
        "plt.ylabel('Importance')\n",
        "plt.tight_layout()  # Adjust layout to prevent overlap\n",
        "plt.show()\n"
      ],
      "metadata": {
        "colab": {
          "base_uri": "https://localhost:8080/",
          "height": 885
        },
        "id": "AG77dXjTYwdW",
        "outputId": "256a1b9f-a1e3-4b7e-b13f-e45e60896dd3"
      },
      "execution_count": null,
      "outputs": [
        {
          "output_type": "stream",
          "name": "stdout",
          "text": [
            "Top 10 Feature Ranking:\n",
            "1. Feature purchase_lead (0.155919611381035)\n",
            "2. Feature flight_hour (0.12791224720257602)\n",
            "3. Feature length_of_stay (0.11632770269302956)\n",
            "4. Feature num_passengers (0.04817186185922785)\n",
            "5. Feature flight_duration (0.03548981520263715)\n",
            "6. Feature booking_origin_Malaysia (0.027879120391402355)\n",
            "7. Feature wants_in_flight_meals (0.022633390603258335)\n",
            "8. Feature booking_origin_Australia (0.020473672195424203)\n",
            "9. Feature wants_preferred_seat (0.01943135731457126)\n",
            "10. Feature wants_extra_baggage (0.01674776603978314)\n",
            "11. Feature flight_day_Tue (0.016656912150759248)\n",
            "12. Feature flight_day_Mon (0.0164967700788389)\n",
            "13. Feature flight_day_Wed (0.016333396201355946)\n",
            "14. Feature flight_day_Thu (0.015809349644624607)\n",
            "15. Feature flight_day_Sun (0.014428449410471722)\n"
          ]
        },
        {
          "output_type": "display_data",
          "data": {
            "text/plain": [
              "<Figure size 1000x600 with 1 Axes>"
            ],
            "image/png": "[encoded data removed]"
          },
          "metadata": {}
        }
      ]
    },
    {
      "cell_type": "markdown",
      "source": [
        "#TRAINING MODEL & EVALUATION"
      ],
      "metadata": {
        "id": "uTGGfjGlimAV"
      }
    },
    {
      "cell_type": "code",
      "source": [
        "from sklearn.model_selection import train_test_split\n",
        "from sklearn.metrics import accuracy_score, precision_score, recall_score, f1_score, classification_report\n",
        "\n",
        "# Select the top features\n",
        "top_features = [\n",
        "    'purchase_lead', 'flight_hour', 'length_of_stay', 'num_passengers',\n",
        "    'flight_duration', 'booking_origin_Malaysia', 'wants_in_flight_meals',\n",
        "    'booking_origin_Australia', 'wants_preferred_seat', 'wants_extra_baggage'\n",
        "]\n",
        "\n",
        "# Create a new DataFrame with only the top features\n",
        "X_top = df[top_features]\n",
        "y = df['booking_complete']\n",
        "\n",
        "# Split the data into training and testing sets (80% train, 20% test)\n",
        "X_train, X_test, y_train, y_test = train_test_split(X_top, y, test_size=0.2, random_state=42)\n",
        "\n",
        "# Initialize the model\n",
        "rf = RandomForestClassifier(random_state=42)\n",
        "\n",
        "# Train the model\n",
        "rf.fit(X_train, y_train)\n",
        "\n",
        "# Predict on the test set\n",
        "y_pred = rf.predict(X_test)\n",
        "\n",
        "# Evaluate the model\n",
        "accuracy = accuracy_score(y_test, y_pred)\n",
        "precision = precision_score(y_test, y_pred)\n",
        "recall = recall_score(y_test, y_pred)\n",
        "f1 = f1_score(y_test, y_pred)\n",
        "\n",
        "# Print evaluation metrics\n",
        "print(f\"Accuracy: {accuracy:.4f}\")\n",
        "print(f\"Precision: {precision:.4f}\")\n",
        "print(f\"Recall: {recall:.4f}\")\n",
        "print(f\"F1-Score: {f1:.4f}\")\n",
        "print(\"\\nClassification Report:\")\n",
        "print(classification_report(y_test, y_pred))\n"
      ],
      "metadata": {
        "colab": {
          "base_uri": "https://localhost:8080/"
        },
        "id": "VokU_AWcip2K",
        "outputId": "f7fcca15-1d11-45e2-e304-5c24432cc329"
      },
      "execution_count": null,
      "outputs": [
        {
          "output_type": "stream",
          "name": "stdout",
          "text": [
            "Accuracy: 0.8473\n",
            "Precision: 0.4423\n",
            "Recall: 0.1216\n",
            "F1-Score: 0.1908\n",
            "\n",
            "Classification Report:\n",
            "              precision    recall  f1-score   support\n",
            "\n",
            "           0       0.86      0.97      0.92      8520\n",
            "           1       0.44      0.12      0.19      1480\n",
            "\n",
            "    accuracy                           0.85     10000\n",
            "   macro avg       0.65      0.55      0.55     10000\n",
            "weighted avg       0.80      0.85      0.81     10000\n",
            "\n"
          ]
        }
      ]
    },
    {
      "cell_type": "code",
      "source": [
        "from sklearn.linear_model import LogisticRegression\n",
        "\n",
        "lr = LogisticRegression(random_state=42)\n",
        "lr.fit(X_resampled, y_resampled)\n",
        "y_pred_lr = lr.predict(X_test)\n",
        "\n",
        "print(classification_report(y_test, y_pred_lr))\n"
      ],
      "metadata": {
        "colab": {
          "base_uri": "https://localhost:8080/"
        },
        "id": "wWz92gD3kRFw",
        "outputId": "46695a51-a95b-4ae6-e325-a334b5cd76ed"
      },
      "execution_count": null,
      "outputs": [
        {
          "output_type": "stream",
          "name": "stdout",
          "text": [
            "              precision    recall  f1-score   support\n",
            "\n",
            "           0       0.93      0.51      0.65      8520\n",
            "           1       0.21      0.78      0.34      1480\n",
            "\n",
            "    accuracy                           0.55     10000\n",
            "   macro avg       0.57      0.64      0.50     10000\n",
            "weighted avg       0.82      0.55      0.61     10000\n",
            "\n"
          ]
        },
        {
          "output_type": "stream",
          "name": "stderr",
          "text": [
            "/usr/local/lib/python3.10/dist-packages/sklearn/linear_model/_logistic.py:460: ConvergenceWarning: lbfgs failed to converge (status=1):\n",
            "STOP: TOTAL NO. of ITERATIONS REACHED LIMIT.\n",
            "\n",
            "Increase the number of iterations (max_iter) or scale the data as shown in:\n",
            "    https://scikit-learn.org/stable/modules/preprocessing.html\n",
            "Please also refer to the documentation for alternative solver options:\n",
            "    https://scikit-learn.org/stable/modules/linear_model.html#logistic-regression\n",
            "  n_iter_i = _check_optimize_result(\n"
          ]
        }
      ]
    },
    {
      "cell_type": "code",
      "source": [
        "from xgboost import XGBClassifier\n",
        "from sklearn.metrics import classification_report, accuracy_score\n",
        "\n",
        "# Initialize the XGBoost model\n",
        "xgb = XGBClassifier(random_state=42, eval_metric='logloss', use_label_encoder=False)\n",
        "\n",
        "# Train the model\n",
        "xgb.fit(X_train, y_train)\n",
        "\n",
        "# Predict on the test set\n",
        "y_pred_xgb = xgb.predict(X_test)\n",
        "\n",
        "# Evaluate the model\n",
        "accuracy_xgb = accuracy_score(y_test, y_pred_xgb)\n",
        "precision_xgb = precision_score(y_test, y_pred_xgb)\n",
        "recall_xgb = recall_score(y_test, y_pred_xgb)\n",
        "f1_xgb = f1_score(y_test, y_pred_xgb)\n",
        "\n",
        "# Print evaluation metrics\n",
        "print(f\"XGBoost Accuracy: {accuracy_xgb:.4f}\")\n",
        "print(f\"XGBoost Precision: {precision_xgb:.4f}\")\n",
        "print(f\"XGBoost Recall: {recall_xgb:.4f}\")\n",
        "print(f\"XGBoost F1-Score: {f1_xgb:.4f}\")\n",
        "print(\"\\nXGBoost Classification Report:\")\n",
        "print(classification_report(y_test, y_pred_xgb))\n"
      ],
      "metadata": {
        "colab": {
          "base_uri": "https://localhost:8080/"
        },
        "id": "JUJcldQLjQ_s",
        "outputId": "cfd01ce9-ede3-4633-917b-069573ce6750"
      },
      "execution_count": null,
      "outputs": [
        {
          "output_type": "stream",
          "name": "stderr",
          "text": [
            "/usr/local/lib/python3.10/dist-packages/xgboost/core.py:158: UserWarning: [21:44:53] WARNING: /workspace/src/learner.cc:740: \n",
            "Parameters: { \"use_label_encoder\" } are not used.\n",
            "\n",
            "  warnings.warn(smsg, UserWarning)\n"
          ]
        },
        {
          "output_type": "stream",
          "name": "stdout",
          "text": [
            "XGBoost Accuracy: 0.8479\n",
            "XGBoost Precision: 0.4221\n",
            "XGBoost Recall: 0.0750\n",
            "XGBoost F1-Score: 0.1274\n",
            "\n",
            "XGBoost Classification Report:\n",
            "              precision    recall  f1-score   support\n",
            "\n",
            "           0       0.86      0.98      0.92      8520\n",
            "           1       0.42      0.07      0.13      1480\n",
            "\n",
            "    accuracy                           0.85     10000\n",
            "   macro avg       0.64      0.53      0.52     10000\n",
            "weighted avg       0.79      0.85      0.80     10000\n",
            "\n"
          ]
        }
      ]
    },
    {
      "cell_type": "markdown",
      "source": [
        "##DOING SAMPLING TO BALANCE DATASET AND IMPROVE RESULTS"
      ],
      "metadata": {
        "id": "B8_N0IhxjY62"
      }
    },
    {
      "cell_type": "code",
      "source": [
        "from imblearn.over_sampling import SMOTE\n",
        "from sklearn.model_selection import train_test_split\n",
        "\n",
        "# Apply SMOTE to the training data\n",
        "smote = SMOTE(random_state=42)\n",
        "X_resampled, y_resampled = smote.fit_resample(X_train, y_train)\n",
        "\n",
        "# Train the XGBoost model on the resampled data\n",
        "xgb.fit(X_resampled, y_resampled)\n",
        "y_pred_xgb_resampled = xgb.predict(X_test)\n",
        "\n",
        "# Evaluate the model\n",
        "print(classification_report(y_test, y_pred_xgb_resampled))\n"
      ],
      "metadata": {
        "colab": {
          "base_uri": "https://localhost:8080/"
        },
        "id": "yHAF9PMBjRog",
        "outputId": "47e9d0c0-7a91-4ba2-c65d-680f9d609fe9"
      },
      "execution_count": null,
      "outputs": [
        {
          "output_type": "stream",
          "name": "stderr",
          "text": [
            "/usr/local/lib/python3.10/dist-packages/xgboost/core.py:158: UserWarning: [21:47:46] WARNING: /workspace/src/learner.cc:740: \n",
            "Parameters: { \"use_label_encoder\" } are not used.\n",
            "\n",
            "  warnings.warn(smsg, UserWarning)\n"
          ]
        },
        {
          "output_type": "stream",
          "name": "stdout",
          "text": [
            "              precision    recall  f1-score   support\n",
            "\n",
            "           0       0.88      0.91      0.89      8520\n",
            "           1       0.35      0.28      0.31      1480\n",
            "\n",
            "    accuracy                           0.82     10000\n",
            "   macro avg       0.61      0.59      0.60     10000\n",
            "weighted avg       0.80      0.82      0.81     10000\n",
            "\n"
          ]
        }
      ]
    },
    {
      "cell_type": "code",
      "source": [
        "from imblearn.combine import SMOTEENN\n",
        "\n",
        "smote_enn = SMOTEENN(random_state=42)\n",
        "X_resampled, y_resampled = smote_enn.fit_resample(X_train, y_train)\n"
      ],
      "metadata": {
        "id": "pHRUi55Ej7mR"
      },
      "execution_count": null,
      "outputs": []
    },
    {
      "cell_type": "code",
      "source": [
        "from sklearn.ensemble import StackingClassifier\n",
        "from sklearn.linear_model import LogisticRegression\n",
        "\n",
        "estimators = [\n",
        "    ('rf', RandomForestClassifier(random_state=42)),\n",
        "    ('xgb', xgb)\n",
        "]\n",
        "stacking = StackingClassifier(estimators=estimators, final_estimator=LogisticRegression())\n",
        "stacking.fit(X_resampled, y_resampled)\n",
        "y_pred_stacking = stacking.predict(X_test)\n",
        "\n",
        "print(classification_report(y_test, y_pred_stacking))\n"
      ],
      "metadata": {
        "colab": {
          "base_uri": "https://localhost:8080/"
        },
        "id": "XexcjEMtkFAq",
        "outputId": "2824f5d0-e211-43b8-e439-ed309f1881cc"
      },
      "execution_count": null,
      "outputs": [
        {
          "output_type": "stream",
          "name": "stderr",
          "text": [
            "/usr/local/lib/python3.10/dist-packages/xgboost/core.py:158: UserWarning: [21:48:51] WARNING: /workspace/src/learner.cc:740: \n",
            "Parameters: { \"use_label_encoder\" } are not used.\n",
            "\n",
            "  warnings.warn(smsg, UserWarning)\n",
            "/usr/local/lib/python3.10/dist-packages/xgboost/core.py:158: UserWarning: [21:49:23] WARNING: /workspace/src/learner.cc:740: \n",
            "Parameters: { \"use_label_encoder\" } are not used.\n",
            "\n",
            "  warnings.warn(smsg, UserWarning)\n",
            "/usr/local/lib/python3.10/dist-packages/xgboost/core.py:158: UserWarning: [21:49:24] WARNING: /workspace/src/learner.cc:740: \n",
            "Parameters: { \"use_label_encoder\" } are not used.\n",
            "\n",
            "  warnings.warn(smsg, UserWarning)\n",
            "/usr/local/lib/python3.10/dist-packages/xgboost/core.py:158: UserWarning: [21:49:26] WARNING: /workspace/src/learner.cc:740: \n",
            "Parameters: { \"use_label_encoder\" } are not used.\n",
            "\n",
            "  warnings.warn(smsg, UserWarning)\n",
            "/usr/local/lib/python3.10/dist-packages/xgboost/core.py:158: UserWarning: [21:49:26] WARNING: /workspace/src/learner.cc:740: \n",
            "Parameters: { \"use_label_encoder\" } are not used.\n",
            "\n",
            "  warnings.warn(smsg, UserWarning)\n",
            "/usr/local/lib/python3.10/dist-packages/xgboost/core.py:158: UserWarning: [21:49:26] WARNING: /workspace/src/learner.cc:740: \n",
            "Parameters: { \"use_label_encoder\" } are not used.\n",
            "\n",
            "  warnings.warn(smsg, UserWarning)\n"
          ]
        },
        {
          "output_type": "stream",
          "name": "stdout",
          "text": [
            "              precision    recall  f1-score   support\n",
            "\n",
            "           0       0.91      0.75      0.82      8520\n",
            "           1       0.28      0.55      0.37      1480\n",
            "\n",
            "    accuracy                           0.72     10000\n",
            "   macro avg       0.59      0.65      0.60     10000\n",
            "weighted avg       0.81      0.72      0.76     10000\n",
            "\n"
          ]
        }
      ]
    }
  ]
}